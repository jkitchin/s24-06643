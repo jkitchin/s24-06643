{
 "cells": [
  {
   "cell_type": "markdown",
   "id": "2cb7ef5d-98cf-46c7-bab6-7fb158846d4a",
   "metadata": {},
   "source": [
    "# GitHUB\n",
    "\n",
    "1. Create a GitHUB account.\n",
    "2. Make a new repository in your account\n",
    "3. Create a local repository here in the JH and push it there."
   ]
  },
  {
   "cell_type": "code",
   "execution_count": null,
   "id": "365a9024-1beb-4a82-8c3e-384e268caff1",
   "metadata": {},
   "outputs": [],
   "source": []
  },
  {
   "cell_type": "markdown",
   "id": "b6d41fdc",
   "metadata": {},
   "source": [
    "Before you turn this problem in, make sure everything runs as expected. First, **restart the kernel** (in the menubar, select Kernel$\\rightarrow$Restart) and then **run all cells** (in the menubar, select Cell$\\rightarrow$Run All).\n",
    "\n",
    "Make sure you fill in any place that says `YOUR CODE HERE` or \"YOUR ANSWER HERE\", as well as your name and collaborators below:\n",
    "\n"
   ]
  },
  {
   "cell_type": "code",
   "execution_count": null,
   "id": "a464c58c",
   "metadata": {},
   "outputs": [],
   "source": [
    "NAME = \"\"\n",
    "COLLABORATORS = \"\"\n",
    "\n"
   ]
  },
  {
   "cell_type": "markdown",
   "id": "0963c0db",
   "metadata": {},
   "source": [
    "## Put a link to the GitHUB repository you created here\n",
    "\n",
    "\n"
   ]
  },
  {
   "cell_type": "code",
   "execution_count": null,
   "id": "5a66dd7f-70b7-4d09-a219-beae617feb42",
   "metadata": {},
   "outputs": [],
   "source": []
  },
  {
   "cell_type": "markdown",
   "id": "43924c8b-1c82-46ed-9563-8d072614ac50",
   "metadata": {},
   "source": [
    "## Create a local repository and push it to  GitHUB\n",
    "\n",
    "You will need to setup either a token or ssh keys to push. Describe here the steps you took to enable this.\n",
    "\n",
    "The repository does not need to be very complicated, a simple README file could be adequate. The point is to make sure you can use GitHUB."
   ]
  },
  {
   "cell_type": "code",
   "execution_count": null,
   "id": "0d7cc9b7-8d00-44d3-a8d2-445186478e09",
   "metadata": {},
   "outputs": [],
   "source": []
  },
  {
   "cell_type": "markdown",
   "id": "46c20d92-ffbb-447e-a3b1-0a6bc2ca02c1",
   "metadata": {
    "nbgrader": {
     "grade": true,
     "grade_id": "cell-92da3734a5a2e41e",
     "locked": false,
     "points": 0,
     "schema_version": 3,
     "solution": true,
     "task": false
    },
    "tags": []
   },
   "source": [
    "## Show the contents of your local repository here\n",
    "\n",
    "You should also show that the local repository is clean."
   ]
  },
  {
   "cell_type": "code",
   "execution_count": null,
   "id": "65f16b38-91cd-45d3-937d-980e5dc0d64a",
   "metadata": {},
   "outputs": [],
   "source": []
  },
  {
   "cell_type": "code",
   "execution_count": 1,
   "id": "35923393-1a73-407a-bd7c-ef25aa170bfd",
   "metadata": {},
   "outputs": [
    {
     "name": "stdout",
     "output_type": "stream",
     "text": [
      "\u001b[01;34m.\u001b[00m\n",
      "└── github.ipynb\n",
      "\n",
      "0 directories, 1 file\n"
     ]
    }
   ],
   "source": [
    "! tree ."
   ]
  },
  {
   "cell_type": "code",
   "execution_count": null,
   "id": "821ef3e9-d5dc-4714-acd2-548278ffc5d7",
   "metadata": {},
   "outputs": [],
   "source": []
  },
  {
   "cell_type": "markdown",
   "id": "613d1a50-b2bb-41c8-b643-4883566ecee7",
   "metadata": {},
   "source": [
    "When you are done, download a PDF and turn it in on Canvas. Make sure to save your notebook, then run this cell and click on the download link."
   ]
  },
  {
   "cell_type": "code",
   "execution_count": null,
   "id": "d39da989-d274-4dc2-a01a-51a59375ffd9",
   "metadata": {
    "tags": [
     "raises-exception",
     "remove-output"
    ]
   },
   "outputs": [],
   "source": [
    "%run ~/s24-06643/s24.py\n",
    "%pdf"
   ]
  },
  {
   "cell_type": "markdown",
   "id": "6a974f57-c57c-4441-b2c9-4c6bc4a31ff7",
   "metadata": {},
   "source": [
    "\n",
    "\n"
   ]
  }
 ],
 "metadata": {
  "kernelspec": {
   "display_name": "Python 3",
   "language": "python",
   "name": "python3"
  },
  "language_info": {
   "codemirror_mode": {
    "name": "ipython",
    "version": 3
   },
   "file_extension": ".py",
   "mimetype": "text/x-python",
   "name": "python",
   "nbconvert_exporter": "python",
   "pygments_lexer": "ipython3",
   "version": "3.9.7"
  },
  "widgets": {
   "application/vnd.jupyter.widget-state+json": {
    "state": {},
    "version_major": 2,
    "version_minor": 0
   }
  }
 },
 "nbformat": 4,
 "nbformat_minor": 5
}
