{
 "cells": [
  {
   "cell_type": "markdown",
   "id": "2cb7ef5d-98cf-46c7-bab6-7fb158846d4a",
   "metadata": {},
   "source": [
    "# i10-index\n",
    "\n",
    "\n"
   ]
  },
  {
   "cell_type": "markdown",
   "id": "b6d41fdc",
   "metadata": {},
   "source": [
    "Before you turn this problem in, make sure everything runs as expected. First, **restart the kernel** (in the menubar, select Kernel$\\rightarrow$Restart) and then **run all cells** (in the menubar, select Cell$\\rightarrow$Run All).\n",
    "\n",
    "Make sure you fill in any place that says `YOUR CODE HERE` or \"YOUR ANSWER HERE\", as well as your name and collaborators below:\n",
    "\n"
   ]
  },
  {
   "cell_type": "code",
   "execution_count": null,
   "id": "a464c58c",
   "metadata": {},
   "outputs": [],
   "source": [
    "NAME = \"\"\n",
    "COLLABORATORS = \"\"\n",
    "\n"
   ]
  },
  {
   "cell_type": "markdown",
   "id": "0963c0db",
   "metadata": {},
   "source": [
    "## What is the i-10 index?\n",
    "\n",
    "Look up the definition of the i10-index. Describe what it is, and how you might use OpenAlex to calculate someone's i10-index. Include the source of information you base your description on."
   ]
  },
  {
   "cell_type": "code",
   "execution_count": null,
   "id": "0f0de12d-c16f-4aac-868c-11f0d072eb3e",
   "metadata": {
    "nbgrader": {
     "grade": true,
     "grade_id": "cell-92da3734a5a2e41e",
     "locked": false,
     "points": 0,
     "schema_version": 3,
     "solution": true,
     "task": false
    },
    "tags": []
   },
   "outputs": [],
   "source": [
    "\n",
    "\n"
   ]
  },
  {
   "cell_type": "markdown",
   "id": "7fb2385d-5655-45c8-97df-8f253bd1ea66",
   "metadata": {},
   "source": [
    "## i10-index script\n",
    "\n",
    "Create a command line script that takes an orcid and outputs the person's name and i10-index.\n",
    "\n",
    "Your script should be named i10, and it should exist in this directory. You will run the following cells to document your work when it is done."
   ]
  },
  {
   "cell_type": "code",
   "execution_count": null,
   "id": "f2edbb2a-7afe-4dbf-8133-32c4dc1f6c5d",
   "metadata": {},
   "outputs": [],
   "source": []
  },
  {
   "cell_type": "markdown",
   "id": "91e7522d-8484-4359-8575-e423c2b42547",
   "metadata": {},
   "source": [
    "## Show the contents of your script\n",
    "\n",
    "Running this cell should show the contents of your script. Do not change anything in the cell."
   ]
  },
  {
   "cell_type": "code",
   "execution_count": null,
   "id": "a1ee083d-2d8e-4b4b-bdaf-70a7246cae12",
   "metadata": {},
   "outputs": [],
   "source": [
    "! cat i10"
   ]
  },
  {
   "cell_type": "markdown",
   "id": "1f930029-974c-488e-bdd6-12622058ba34",
   "metadata": {},
   "source": [
    "## Show that your script works\n",
    "\n",
    "The next cell should print the name and i10-index for Prof. Kitchin. Compare your result to the i10 index shown by Google Scholar at https://scholar.google.com/citations?user=jD_4h7sAAAAJ."
   ]
  },
  {
   "cell_type": "code",
   "execution_count": null,
   "id": "485b6317-1380-4326-a2f5-4363f5a3947b",
   "metadata": {},
   "outputs": [],
   "source": [
    "! ./i10 https://orcid.org/0000-0003-2625-9232"
   ]
  },
  {
   "cell_type": "markdown",
   "id": "94f07efb-61db-4029-934e-80453c11e6af",
   "metadata": {},
   "source": [
    "## i10-index for Jens Norskov\n",
    "\n",
    "Next run your script for the next cell. Compare the result to https://scholar.google.com/citations?user=hvthl-MAAAAJ&hl=en&oi=ao. If they don't agree, explain why they don't agree. It is not necessary to fix the script, just explain what is wrong with it, and what needs to be done to fix it."
   ]
  },
  {
   "cell_type": "code",
   "execution_count": null,
   "id": "59a64c39-71f7-4ede-9cc2-6339d866b046",
   "metadata": {},
   "outputs": [],
   "source": [
    "~ ./i10 https://orcid.org/0000-0002-4427-7728"
   ]
  },
  {
   "cell_type": "markdown",
   "id": "613d1a50-b2bb-41c8-b643-4883566ecee7",
   "metadata": {},
   "source": [
    "When you are done, download a PDF and turn it in on Canvas. Make sure to save your notebook, then run this cell and click on the download link."
   ]
  },
  {
   "cell_type": "code",
   "execution_count": null,
   "id": "d39da989-d274-4dc2-a01a-51a59375ffd9",
   "metadata": {
    "tags": [
     "raises-exception",
     "remove-output"
    ]
   },
   "outputs": [],
   "source": [
    "%run ~/s24-06643/s24.py\n",
    "%pdf"
   ]
  },
  {
   "cell_type": "markdown",
   "id": "6a974f57-c57c-4441-b2c9-4c6bc4a31ff7",
   "metadata": {},
   "source": [
    "\n",
    "\n"
   ]
  }
 ],
 "metadata": {
  "kernelspec": {
   "display_name": "Python 3",
   "language": "python",
   "name": "python3"
  },
  "language_info": {
   "codemirror_mode": {
    "name": "ipython",
    "version": 3
   },
   "file_extension": ".py",
   "mimetype": "text/x-python",
   "name": "python",
   "nbconvert_exporter": "python",
   "pygments_lexer": "ipython3",
   "version": "3.9.7"
  },
  "widgets": {
   "application/vnd.jupyter.widget-state+json": {
    "state": {},
    "version_major": 2,
    "version_minor": 0
   }
  }
 },
 "nbformat": 4,
 "nbformat_minor": 5
}
