{
 "cells": [
  {
   "cell_type": "markdown",
   "id": "2cb7ef5d-98cf-46c7-bab6-7fb158846d4a",
   "metadata": {},
   "source": [
    "# Code quality\n",
    "\n",
    "This assignment builds on [lecture 6](https://kitchingroup.cheme.cmu.edu/s24-06643/06-code-quality/06-code-quality.html).\n",
    "\n",
    "For the package in [./src](./src):\n",
    "\n",
    "0. initialize a git repo to store the initial state of the assignment\n",
    "1. Run black on it\n",
    "2. Run flake8 and fix the problems\n",
    "3. Run pytest and fix any problems\n",
    "4. Setup pre-commit with black, flake8 and pytest.\n",
    "5. Commit the files and show precommit worked."
   ]
  },
  {
   "cell_type": "markdown",
   "id": "b6d41fdc",
   "metadata": {},
   "source": [
    "Before you turn this problem in, make sure everything runs as expected. First, **restart the kernel** (in the menubar, select Kernel$\\rightarrow$Restart) and then **run all cells** (in the menubar, select Cell$\\rightarrow$Run All).\n",
    "\n",
    "Make sure you fill in any place that says `YOUR CODE HERE` or \"YOUR ANSWER HERE\", as well as your name and collaborators below:\n",
    "\n"
   ]
  },
  {
   "cell_type": "code",
   "execution_count": null,
   "id": "a464c58c",
   "metadata": {},
   "outputs": [],
   "source": [
    "NAME = \"\"\n",
    "COLLABORATORS = \"\"\n",
    "\n"
   ]
  },
  {
   "cell_type": "markdown",
   "id": "47f3cb71-e90c-4328-b495-e52141b387a8",
   "metadata": {},
   "source": [
    "# Setup a git repo\n",
    "\n",
    "Run this first to initialize a git repo with all the files here."
   ]
  },
  {
   "cell_type": "code",
   "execution_count": null,
   "id": "37aa250c-7807-42f5-8592-abf351ec23d5",
   "metadata": {},
   "outputs": [],
   "source": [
    "%% bash\n",
    "cd src\n",
    "git add setup.py makefile s23bib\n",
    "git commit -m \"init\""
   ]
  },
  {
   "cell_type": "markdown",
   "id": "0963c0db",
   "metadata": {},
   "source": [
    "## black\n",
    "\n",
    "Run black on the src directory. Show it comes clean."
   ]
  },
  {
   "cell_type": "code",
   "execution_count": null,
   "id": "32c0b7da-b97f-484b-b394-7a739db9b9ee",
   "metadata": {},
   "outputs": [],
   "source": []
  },
  {
   "cell_type": "markdown",
   "id": "8ffe0fcf-0ed5-4766-9ddf-9d36d15ef424",
   "metadata": {
    "nbgrader": {
     "grade": true,
     "grade_id": "cell-92da3734a5a2e41e",
     "locked": false,
     "points": 0,
     "schema_version": 3,
     "solution": true,
     "task": false
    },
    "tags": []
   },
   "source": [
    "## Run flake8\n",
    "\n",
    "Fix any issues that arise. Show a final result that is clean. If you decide to ignore an error, provide a reason why."
   ]
  },
  {
   "cell_type": "code",
   "execution_count": null,
   "id": "61d6040a-1cad-49cb-ab03-8b8a565b9759",
   "metadata": {},
   "outputs": [],
   "source": []
  },
  {
   "cell_type": "markdown",
   "id": "c3b54439-c04e-4ab7-be0b-14fd33ff2e8a",
   "metadata": {},
   "source": [
    "## Run pytest\n",
    "\n",
    "Fix any issues and show they finally pass."
   ]
  },
  {
   "cell_type": "code",
   "execution_count": null,
   "id": "ea927d28-fbe9-4663-943a-28c188a2dbcd",
   "metadata": {},
   "outputs": [],
   "source": []
  },
  {
   "cell_type": "markdown",
   "id": "dcc10f94-a845-46cc-ad30-2b70e753bb01",
   "metadata": {},
   "source": [
    "## Setup pre-commit\n",
    "\n",
    "The src directory should already be a git repo. Setup a pre-commit hook following the [lecture notes](https://kitchingroup.cheme.cmu.edu/s24-06643/06-code-quality/06-code-quality.html#pre-commit). Commit all your changes.\n",
    "\n",
    "Make sure to not include the `__pycache__` and .ipynb_checkpoints, or any build or `*.egg-info` directories."
   ]
  },
  {
   "cell_type": "code",
   "execution_count": null,
   "id": "33df0286-fd17-435d-8f8b-1fa64d18691d",
   "metadata": {},
   "outputs": [],
   "source": []
  },
  {
   "cell_type": "markdown",
   "id": "9703e2a9-00ef-4782-9add-16d11f59f67e",
   "metadata": {},
   "source": [
    "## Show the changes you made\n",
    "\n",
    "This cell should show all the changes you made to the files. It is a confusing looking command. The back-quoted command just gets the initial commit, and HEAD points to the last commit."
   ]
  },
  {
   "cell_type": "code",
   "execution_count": 9,
   "id": "7525f497-612d-4983-9f57-1492ffddcce0",
   "metadata": {},
   "outputs": [],
   "source": [
    "%%bash\n",
    "cd src\n",
    "git diff --color `git rev-list --max-parents=0 HEAD` HEAD"
   ]
  },
  {
   "cell_type": "markdown",
   "id": "613d1a50-b2bb-41c8-b643-4883566ecee7",
   "metadata": {},
   "source": [
    "When you are done, download a PDF and turn it in on Canvas. Make sure to save your notebook, then run this cell and click on the download link."
   ]
  },
  {
   "cell_type": "code",
   "execution_count": null,
   "id": "d39da989-d274-4dc2-a01a-51a59375ffd9",
   "metadata": {
    "tags": [
     "raises-exception",
     "remove-output"
    ]
   },
   "outputs": [],
   "source": [
    "%run ~/s24-06643/s24.py\n",
    "%pdf"
   ]
  },
  {
   "cell_type": "markdown",
   "id": "6a974f57-c57c-4441-b2c9-4c6bc4a31ff7",
   "metadata": {},
   "source": [
    "\n",
    "\n"
   ]
  }
 ],
 "metadata": {
  "kernelspec": {
   "display_name": "Python 3",
   "language": "python",
   "name": "python3"
  },
  "language_info": {
   "codemirror_mode": {
    "name": "ipython",
    "version": 3
   },
   "file_extension": ".py",
   "mimetype": "text/x-python",
   "name": "python",
   "nbconvert_exporter": "python",
   "pygments_lexer": "ipython3",
   "version": "3.9.7"
  },
  "widgets": {
   "application/vnd.jupyter.widget-state+json": {
    "state": {},
    "version_major": 2,
    "version_minor": 0
   }
  }
 },
 "nbformat": 4,
 "nbformat_minor": 5
}
